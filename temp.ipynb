{
 "metadata": {
  "language_info": {
   "codemirror_mode": {
    "name": "ipython",
    "version": 3
   },
   "file_extension": ".py",
   "mimetype": "text/x-python",
   "name": "python",
   "nbconvert_exporter": "python",
   "pygments_lexer": "ipython3",
   "version": "3.7.6-final"
  },
  "orig_nbformat": 2,
  "kernelspec": {
   "name": "python37664bitbasecondae1c10a714d664cd08d4c473c1f5d3c0b",
   "display_name": "Python 3.7.6 64-bit ('base': conda)"
  }
 },
 "nbformat": 4,
 "nbformat_minor": 2,
 "cells": [
  {
   "cell_type": "code",
   "execution_count": 36,
   "metadata": {},
   "outputs": [],
   "source": [
    "import os\n",
    "import tensorflow as tf\n",
    "from tensorflow import keras"
   ]
  },
  {
   "cell_type": "code",
   "execution_count": 37,
   "metadata": {
    "tags": []
   },
   "outputs": [],
   "source": [
    "model = tf.keras.models.load_model(\"emotion_detection.h5\")  "
   ]
  },
  {
   "cell_type": "code",
   "execution_count": 38,
   "metadata": {
    "tags": []
   },
   "outputs": [],
   "source": [
    "import librosa\n",
    "import numpy as np\n",
    "import pandas as pd\n",
    "from sklearn.preprocessing import scale\n",
    "SAMPLE_RATE = 44100\n",
    "\n",
    "\n",
    "def Pred(audioPath):\n",
    "    df = pd.DataFrame(columns=[\"features\"])\n",
    "    audio_signal, sample_rate = librosa.load(audioPath, sr=SAMPLE_RATE)\n",
    "    mfcc = np.mean(librosa.feature.mfcc(audio_signal, sample_rate, n_mfcc=41, n_fft=2048, hop_length=512), axis=0)\n",
    "    mfcc = mfcc[1:]\n",
    "    mfcc = np.pad(mfcc, (0, 257 - mfcc.shape[0]), 'constant')\n",
    "    #mfcc = scale(mfcc)\n",
    "    df.loc[len(df)] = [mfcc]\n",
    "    df = pd.DataFrame(df['features'].values.tolist())\n",
    "    x = df.loc[:, :]\n",
    "    x = model.predict(x)\n",
    "    predicted_index = np.argmax(x, axis=1)\n",
    "    print(predicted_index)"
   ]
  },
  {
   "cell_type": "code",
   "execution_count": 42,
   "metadata": {
    "tags": []
   },
   "outputs": [
    {
     "output_type": "stream",
     "name": "stdout",
     "text": "[6]\n"
    }
   ],
   "source": [
    "Pred(r\"C:\\Users\\capnp\\Desktop\\Projects\\Data Science\\Emotion Classification\\TESS Toronto emotional speech set data\\OAF_Sad\\OAF_good_sad.wav\")"
   ]
  },
  {
   "cell_type": "code",
   "execution_count": 45,
   "metadata": {
    "tags": []
   },
   "outputs": [
    {
     "output_type": "stream",
     "name": "stdout",
     "text": "2.2.0\n"
    }
   ],
   "source": [
    "print (tf.__version__)"
   ]
  },
  {
   "cell_type": "code",
   "execution_count": null,
   "metadata": {},
   "outputs": [],
   "source": []
  }
 ]
}